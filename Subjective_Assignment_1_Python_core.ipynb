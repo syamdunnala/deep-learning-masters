{
  "nbformat": 4,
  "nbformat_minor": 0,
  "metadata": {
    "kernelspec": {
      "display_name": "Python 3",
      "language": "python",
      "name": "python3"
    },
    "language_info": {
      "codemirror_mode": {
        "name": "ipython",
        "version": 3
      },
      "file_extension": ".py",
      "mimetype": "text/x-python",
      "name": "python",
      "nbconvert_exporter": "python",
      "pygments_lexer": "ipython3",
      "version": "3.7.4"
    },
    "colab": {
      "name": "Subjective Assignment - 1- Python core.ipynb",
      "provenance": [],
      "collapsed_sections": []
    }
  },
  "cells": [
    {
      "cell_type": "markdown",
      "metadata": {
        "id": "K5rZiKBXUGjJ",
        "colab_type": "text"
      },
      "source": [
        "Q1. Write a Python program to get the string from the given string where\n",
        "all the occurrence of its first char has been changed to '$,' except first\n",
        "char itself?\n",
        "\n",
        "    Sample String: 'prospect'\n",
        "    Expected Result : 'pros$ect'\n"
      ]
    },
    {
      "cell_type": "code",
      "metadata": {
        "id": "zxC4jg8yUGjV",
        "colab_type": "code",
        "outputId": "afcd9040-aecb-4029-d63c-20ec239cfdfb",
        "colab": {
          "base_uri": "https://localhost:8080/",
          "height": 34
        }
      },
      "source": [
        "def change_char(str1):\n",
        "  char = str1[0]\n",
        "  str1 = str1.replace(char, '$')\n",
        "  str1 = char + str1[1:]\n",
        "\n",
        "  return str1\n",
        "\n",
        "print(change_char('prospect'))\n"
      ],
      "execution_count": 0,
      "outputs": [
        {
          "output_type": "stream",
          "text": [
            "pros$ect\n"
          ],
          "name": "stdout"
        }
      ]
    },
    {
      "cell_type": "markdown",
      "metadata": {
        "id": "WbMmh2VOUGjq",
        "colab_type": "text"
      },
      "source": [
        "Q2. Write a Python program to get the single string from the two given\n",
        "strings, and separated by the space and swap the first two characters of\n",
        "each string?\n",
        "\n",
        "    Sample String : 'abc', 'xyz'.\n",
        "    Expected Result: 'xyc abz'"
      ]
    },
    {
      "cell_type": "code",
      "metadata": {
        "id": "q870nhM-UGjv",
        "colab_type": "code",
        "outputId": "aa80d7f7-dbdc-44b7-c8cc-e7aedcc2542f",
        "colab": {
          "base_uri": "https://localhost:8080/",
          "height": 34
        }
      },
      "source": [
        "def chars_mix_up(a, b):\n",
        "  new_a = b[:2] + a[2:]\n",
        "  new_b = a[:2] + b[2:]\n",
        "\n",
        "  return new_a + ' ' + new_b\n",
        "print(chars_mix_up('abc', 'xyz'))"
      ],
      "execution_count": 0,
      "outputs": [
        {
          "output_type": "stream",
          "text": [
            "xyc abz\n"
          ],
          "name": "stdout"
        }
      ]
    },
    {
      "cell_type": "markdown",
      "metadata": {
        "id": "zvY5fH2sUGj8",
        "colab_type": "text"
      },
      "source": [
        "Q3. Write the Python program to add 'ing' at the end of the given string\n",
        "(length of the string should be at least 3). If given string already ends\n",
        "with 'ing,' then add 'ly' instead. If string length of the given string is less\n",
        "than 3, leave it unchanged?\n",
        "\n",
        "\n",
        "    Sample string: ' abc '\n",
        "    Expected result: ' abcing '\n",
        "    Sample string: ' string '\n",
        "    Expected result: ' stringly '\n"
      ]
    },
    {
      "cell_type": "code",
      "metadata": {
        "id": "K2TgrpJ8UGj_",
        "colab_type": "code",
        "colab": {
          "base_uri": "https://localhost:8080/",
          "height": 67
        },
        "outputId": "92d5d502-0996-4d3c-898f-9ebda7a16ad3"
      },
      "source": [
        "def add_string(str1):\n",
        "  length = len(str1)\n",
        "\n",
        "  if length > 2:\n",
        "    if str1[-3:] == 'ing':\n",
        "      str1 += 'ly'\n",
        "    else:\n",
        "      str1 += 'ing'\n",
        "\n",
        "  return str1\n",
        "print(add_string('ab'))\n",
        "print(add_string('abc'))\n",
        "print(add_string('string'))"
      ],
      "execution_count": 21,
      "outputs": [
        {
          "output_type": "stream",
          "text": [
            "ab\n",
            "abcing\n",
            "stringly\n"
          ],
          "name": "stdout"
        }
      ]
    },
    {
      "cell_type": "markdown",
      "metadata": {
        "id": "5czUTQ31UGkH",
        "colab_type": "text"
      },
      "source": [
        "Q4. Write the Python program to find the first appearance of the\n",
        "substring 'not' and 'poor' from the given string, if 'not' follows the 'poor',\n",
        "replace the whole 'not'...' poor' substring with 'good'.Return the resulting\n",
        "string.\n",
        "\n",
        "    Sample string: 'The lyrics are not that poor!'\n",
        "    'The lyrics are poor!'\n",
        "    Expected Result: 'The lyrics are good!'\n",
        "    'The lyrics are poor!'"
      ]
    },
    {
      "cell_type": "code",
      "metadata": {
        "id": "JEhaLpT6UGkM",
        "colab_type": "code",
        "colab": {
          "base_uri": "https://localhost:8080/",
          "height": 50
        },
        "outputId": "ac4e39fb-0a59-401b-8b18-4d750cdaa3a0"
      },
      "source": [
        "def not_poor(str1):\n",
        "  snot = str1.find('not')\n",
        "  spoor = str1.find('poor')\n",
        "  \n",
        "\n",
        "  if spoor > snot and snot>0 and spoor>0:\n",
        "    str1 = str1.replace(str1[snot:(spoor+4)], 'good')\n",
        "    return str1\n",
        "  else:\n",
        "    return str1\n",
        "print(not_poor('The lyrics are not that poor!'))\n",
        "print(not_poor('The lyrics are poor!'))"
      ],
      "execution_count": 22,
      "outputs": [
        {
          "output_type": "stream",
          "text": [
            "The lyrics is good!\n",
            "The lyrics is poor!\n"
          ],
          "name": "stdout"
        }
      ]
    },
    {
      "cell_type": "markdown",
      "metadata": {
        "id": "uYyT27DUUGkT",
        "colab_type": "text"
      },
      "source": [
        "Q5. Write the Python program to remove the characters which have odd\n",
        "index values of a given string."
      ]
    },
    {
      "cell_type": "code",
      "metadata": {
        "id": "lAHD04xdUGkV",
        "colab_type": "code",
        "colab": {
          "base_uri": "https://localhost:8080/",
          "height": 50
        },
        "outputId": "770048ee-0535-4d92-f0b3-8a5c1643e325"
      },
      "source": [
        "def odd_values_string(str):\n",
        "  result = \"\" \n",
        "  for i in range(len(str)):\n",
        "    if i % 2 == 0:\n",
        "      result = result + str[i]\n",
        "  return result\n",
        "\n",
        "print(odd_values_string('abcdef'))\n",
        "print(odd_values_string('owww'))"
      ],
      "execution_count": 31,
      "outputs": [
        {
          "output_type": "stream",
          "text": [
            "ace\n",
            "ow\n"
          ],
          "name": "stdout"
        }
      ]
    },
    {
      "cell_type": "markdown",
      "metadata": {
        "id": "3DZrBisHUGke",
        "colab_type": "text"
      },
      "source": [
        "Q6. Write the python program to print the following floating numbers up\n",
        "to 2 decimal places?"
      ]
    },
    {
      "cell_type": "code",
      "metadata": {
        "id": "On54C3wLUGkg",
        "colab_type": "code",
        "colab": {}
      },
      "source": [
        ""
      ],
      "execution_count": 0,
      "outputs": []
    },
    {
      "cell_type": "markdown",
      "metadata": {
        "id": "VfZrARvqUGkl",
        "colab_type": "text"
      },
      "source": [
        "Q7. Write the Python program to format a number with a percentage?"
      ]
    },
    {
      "cell_type": "code",
      "metadata": {
        "id": "-lUbJSF0UGkm",
        "colab_type": "code",
        "colab": {
          "base_uri": "https://localhost:8080/",
          "height": 118
        },
        "outputId": "4ab2884c-5342-467f-8dc6-fed4de620b67"
      },
      "source": [
        "x = 3.1415926\n",
        "y = 12.9999\n",
        "print(\"\\nOriginal Number: \", x)\n",
        "print(\"Formatted Number: \"+\"{:.2f}\".format(x));\n",
        "print(\"Original Number: \", y)\n",
        "print(\"Formatted Number: \"+\"{:.2f}\".format(y));\n",
        "print() "
      ],
      "execution_count": 32,
      "outputs": [
        {
          "output_type": "stream",
          "text": [
            "\n",
            "Original Number:  3.1415926\n",
            "Formatted Number: 3.14\n",
            "Original Number:  12.9999\n",
            "Formatted Number: 13.00\n",
            "\n"
          ],
          "name": "stdout"
        }
      ]
    },
    {
      "cell_type": "markdown",
      "metadata": {
        "id": "h_i1_AjEUGks",
        "colab_type": "text"
      },
      "source": [
        "Q8. Write the Python program to count occurrences of a substring in a\n",
        "String?"
      ]
    },
    {
      "cell_type": "code",
      "metadata": {
        "id": "BzT-tQLSUGku",
        "colab_type": "code",
        "colab": {
          "base_uri": "https://localhost:8080/",
          "height": 67
        },
        "outputId": "8b68004e-de1c-4062-afc5-948446a25c48"
      },
      "source": [
        "str1 = 'The quick brown fox jumps over the lazy dog.'\n",
        "print()\n",
        "print(str1.count(\"the\"))\n",
        "print()"
      ],
      "execution_count": 34,
      "outputs": [
        {
          "output_type": "stream",
          "text": [
            "\n",
            "1\n",
            "\n"
          ],
          "name": "stdout"
        }
      ]
    },
    {
      "cell_type": "markdown",
      "metadata": {
        "id": "hQeuhv9yUGk2",
        "colab_type": "text"
      },
      "source": [
        "Q9. Write the Python program to count repeated characters in a string.\n",
        "\n",
        "    Sample string: ' thequickbrownjumpsoverthelazydog '\n",
        "    \n",
        "    Expected output:\n",
        "    o 3\n",
        "    e 3\n",
        "    u 2\n",
        "    h 2\n",
        "    r 2\n",
        "    t 2"
      ]
    },
    {
      "cell_type": "code",
      "metadata": {
        "id": "DkxAOXDzUGk5",
        "colab_type": "code",
        "colab": {
          "base_uri": "https://localhost:8080/",
          "height": 118
        },
        "outputId": "7cb01fcc-4e44-4bd3-d164-87e797e3509a"
      },
      "source": [
        "import collections\n",
        "str1 = 'thequickbrownfoxjumpsoverthelazydog'\n",
        "d = collections.defaultdict(int)\n",
        "for c in str1:\n",
        "    d[c] += 1\n",
        "\n",
        "for c in sorted(d, key=d.get, reverse=True):\n",
        "  if d[c] > 1:\n",
        "      print('%s %d' % (c, d[c]))"
      ],
      "execution_count": 35,
      "outputs": [
        {
          "output_type": "stream",
          "text": [
            "o 4\n",
            "e 3\n",
            "t 2\n",
            "h 2\n",
            "u 2\n",
            "r 2\n"
          ],
          "name": "stdout"
        }
      ]
    },
    {
      "cell_type": "markdown",
      "metadata": {
        "id": "jFfauMJ3UGlE",
        "colab_type": "text"
      },
      "source": [
        "Q10. Write the Python program to print the square and cube symbol in\n",
        "the area of a rectangle and volume of a cylinder?\n",
        "\n",
        "    Sample outputThe area of the rectangle is 1256.66cm2\n",
        "    The volume of the cylinder is 1254.725cm3\n"
      ]
    },
    {
      "cell_type": "code",
      "metadata": {
        "id": "tIHtduHxUGlG",
        "colab_type": "code",
        "colab": {
          "base_uri": "https://localhost:8080/",
          "height": 50
        },
        "outputId": "2d9bb7c4-565a-4a34-9061-4fed9606d78a"
      },
      "source": [
        "area = 1256.66\n",
        "volume = 1254.725\n",
        "decimals = 2\n",
        "print(\"The area of the rectangle is {0:.{1}f}cm\\u00b2\".format(area, decimals))\n",
        "decimals = 3\n",
        "print(\"The volume of the cylinder is {0:.{1}f}cm\\u00b3\".format(volume, decimals))\n"
      ],
      "execution_count": 36,
      "outputs": [
        {
          "output_type": "stream",
          "text": [
            "The area of the rectangle is 1256.66cm²\n",
            "The volume of the cylinder is 1254.725cm³\n"
          ],
          "name": "stdout"
        }
      ]
    },
    {
      "cell_type": "markdown",
      "metadata": {
        "id": "5NHU-StgUGlJ",
        "colab_type": "text"
      },
      "source": [
        "Q11. Write the Python program to check if a string contains all letters of\n",
        "the alphabet?"
      ]
    },
    {
      "cell_type": "code",
      "metadata": {
        "id": "MnT1ShBFUGlM",
        "colab_type": "code",
        "colab": {
          "base_uri": "https://localhost:8080/",
          "height": 50
        },
        "outputId": "70c21f5e-9449-407a-97fb-6a02c2701b50"
      },
      "source": [
        "import string\n",
        "alphabet = set(string.ascii_lowercase)\n",
        "input_string = 'The quick brown fox jumps over the lazy dog'\n",
        "print(set(input_string.lower()) >= alphabet)\n",
        "input_string = 'The quick brown fox jumps over the lazy cat'\n",
        "print(set(input_string.lower()) >= alphabet)"
      ],
      "execution_count": 37,
      "outputs": [
        {
          "output_type": "stream",
          "text": [
            "True\n",
            "False\n"
          ],
          "name": "stdout"
        }
      ]
    },
    {
      "cell_type": "markdown",
      "metadata": {
        "id": "Sseoq9vFUGlR",
        "colab_type": "text"
      },
      "source": [
        "Q12. Write the Python program to find the second most repeated word\n",
        "in a given string?"
      ]
    },
    {
      "cell_type": "code",
      "metadata": {
        "id": "-r0kEk7DUGlT",
        "colab_type": "code",
        "colab": {
          "base_uri": "https://localhost:8080/",
          "height": 34
        },
        "outputId": "c151574f-41d6-4636-b36e-8337b74a67d5"
      },
      "source": [
        "def word_count(str):\n",
        "    counts = dict()\n",
        "    words = str.split()\n",
        "\n",
        "    for word in words:\n",
        "        if word in counts:\n",
        "            counts[word] += 1\n",
        "        else:\n",
        "            counts[word] = 1\n",
        "\n",
        "    counts_x = sorted(counts.items(), key=lambda kv: kv[1])\n",
        "    #print(counts_x)\n",
        "    return counts_x[-2]\n",
        " \n",
        "print(word_count(\"Both of these issues are fixed by postponing the evaluation of annotations. Instead of compiling code which executes expressions in annotations at their definition time, the compiler stores the annotation in a string form equivalent to the AST of the expression in question. If needed, annotations can be resolved at runtime using typing.get_type_hints(). In the common case where this is not required, the annotations are cheaper to store (since short strings are interned by the interpreter) and make startup time faster.\"))\n"
      ],
      "execution_count": 38,
      "outputs": [
        {
          "output_type": "stream",
          "text": [
            "('of', 4)\n"
          ],
          "name": "stdout"
        }
      ]
    },
    {
      "cell_type": "markdown",
      "metadata": {
        "id": "xG23oeWFUGle",
        "colab_type": "text"
      },
      "source": [
        "Q13. Write the Python program to find the minimum window in the given\n",
        "string, which will contains all the characters of another given\n",
        "strings?\n",
        "\n",
        "    Example 1\n",
        "    Input : string1 = \" PRWSOERIUSFK \"\n",
        "    string2 = \" OSU \"\n",
        "    Output: Minimum window is \"OERIUS\""
      ]
    },
    {
      "cell_type": "code",
      "metadata": {
        "id": "j_ixx-aaUGlg",
        "colab_type": "code",
        "colab": {
          "base_uri": "https://localhost:8080/",
          "height": 101
        },
        "outputId": "70742cb6-41bb-4d94-ddc4-52425d131a97"
      },
      "source": [
        "from collections import defaultdict   \n",
        "\n",
        "def find_sub_string(str): \n",
        "    str_len = len(str) \n",
        "      \n",
        "    # Count all distinct characters. \n",
        "    dist_count_char = len(set([x for x in str])) \n",
        "  \n",
        "    ctr, start_pos, start_pos_index, min_len = 0, 0, -1, 9999999999\n",
        "    curr_count = defaultdict(lambda: 0) \n",
        "    for i in range(str_len): \n",
        "        curr_count[str[i]] += 1\n",
        " \n",
        "        if curr_count[str[i]] == 1: \n",
        "            ctr += 1\n",
        "  \n",
        "        if ctr == dist_count_char: \n",
        "            while curr_count[str[start_pos]] > 1: \n",
        "                if curr_count[str[start_pos]] > 1: \n",
        "                    curr_count[str[start_pos]] -= 1\n",
        "                start_pos += 1\n",
        "  \n",
        "            len_window = i - start_pos + 1\n",
        "            if min_len > len_window: \n",
        "                min_len = len_window \n",
        "                start_pos_index = start_pos \n",
        "    return str[start_pos_index: start_pos_index + min_len] \n",
        "      \n",
        "str1 = \"asdaewsqgtwwsa\"\n",
        "print(\"Original Strings:\\n\",str1)\n",
        "print(\"\\nSmallest window that contains all characters of the said string:\")\n",
        "print(find_sub_string(str1)) \n"
      ],
      "execution_count": 39,
      "outputs": [
        {
          "output_type": "stream",
          "text": [
            "Original Strings:\n",
            " asdaewsqgtwwsa\n",
            "\n",
            "Smallest window that contains all characters of the said string:\n",
            "daewsqgt\n"
          ],
          "name": "stdout"
        }
      ]
    },
    {
      "cell_type": "markdown",
      "metadata": {
        "id": "YKOjxwLqUGll",
        "colab_type": "text"
      },
      "source": [
        "Q14. Write the Python program to count number of substrings from a\n",
        "given string of lowercase alphabets with exactly k distinct (given)\n",
        "characters?\n",
        "\n",
        "    Input a string (lowercase alphabets): wolf\n",
        "    Input k: 4\n",
        "    Number of substrings with exactly 4 distinct characters: 1"
      ]
    },
    {
      "cell_type": "code",
      "metadata": {
        "id": "rKrcQwriUGln",
        "colab_type": "code",
        "colab": {
          "base_uri": "https://localhost:8080/",
          "height": 67
        },
        "outputId": "34208ddb-a9aa-4832-81f3-a5e778c5f83a"
      },
      "source": [
        "def count_k_dist(str1, k): \n",
        "\tstr_len = len(str1) \n",
        "\t\n",
        "\tresult = 0\n",
        "\n",
        "\tctr = [0] * 27\n",
        "\n",
        "\tfor i in range(0, str_len): \n",
        "\t\tdist_ctr = 0\n",
        "\n",
        "\t\tctr = [0] * 27\n",
        "\n",
        "\t\tfor j in range(i, str_len): \n",
        "\t\t\t\n",
        "\t\t\tif(ctr[ord(str1[j]) - 97] == 0): \n",
        "\t\t\t\tdist_ctr += 1\n",
        "\n",
        "\t\t\tctr[ord(str1[j]) - 97] += 1\n",
        "\n",
        "\t\t\tif(dist_ctr == k): \n",
        "\t\t\t\tresult += 1\n",
        "\t\t\tif(dist_ctr > k): \n",
        "\t\t\t\tbreak\n",
        "\n",
        "\treturn result \n",
        "\n",
        "str1 = input(\"Input a string (lowercase alphabets):\")\n",
        "k = int(input(\"Input k: \"))\n",
        "print(\"Number of substrings with exactly\", k, \"distinct characters : \", end = \"\") \n",
        "print(count_k_dist(str1, k))\n"
      ],
      "execution_count": 40,
      "outputs": [
        {
          "output_type": "stream",
          "text": [
            "Input a string (lowercase alphabets):abcdabcdm\n",
            "Input k: 2\n",
            "Number of substrings with exactly 2 distinct characters : 8\n"
          ],
          "name": "stdout"
        }
      ]
    },
    {
      "cell_type": "markdown",
      "metadata": {
        "id": "_cOaHDO4UGlr",
        "colab_type": "text"
      },
      "source": [
        "Q15. Write the Python program to count number of substrings with same\n",
        "first and last characters of the given string?\n",
        "\n",
        "    Input a string: abcd\n",
        "    4\n"
      ]
    },
    {
      "cell_type": "code",
      "metadata": {
        "id": "wBkr3x7mUGlt",
        "colab_type": "code",
        "colab": {
          "base_uri": "https://localhost:8080/",
          "height": 50
        },
        "outputId": "3b2efd04-b394-4596-bef6-fbbebf96941e"
      },
      "source": [
        "def no_of_substring_with_equalEnds(str1): \n",
        "\tresult = 0; \n",
        "\tn = len(str1); \n",
        "\tfor i in range(n): \n",
        "\t\tfor j in range(i, n): \n",
        "\t\t\tif (str1[i] == str1[j]): \n",
        "\t\t\t\tresult = result + 1\n",
        "\treturn result \n",
        "str1 = input(\"Input a string: \")\n",
        "print(no_of_substring_with_equalEnds(str1))\n"
      ],
      "execution_count": 41,
      "outputs": [
        {
          "output_type": "stream",
          "text": [
            "Input a string: awertyu\n",
            "7\n"
          ],
          "name": "stdout"
        }
      ]
    },
    {
      "cell_type": "markdown",
      "metadata": {
        "id": "U5AfASZTUGlx",
        "colab_type": "text"
      },
      "source": [
        "## Great Job!"
      ]
    }
  ]
}